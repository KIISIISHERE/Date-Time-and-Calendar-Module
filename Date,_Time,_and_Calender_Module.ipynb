{
  "nbformat": 4,
  "nbformat_minor": 0,
  "metadata": {
    "colab": {
      "provenance": [],
      "authorship_tag": "ABX9TyPTkrEwLt3JnCr2qCWtlTkH",
      "include_colab_link": true
    },
    "kernelspec": {
      "name": "python3",
      "display_name": "Python 3"
    },
    "language_info": {
      "name": "python"
    }
  },
  "cells": [
    {
      "cell_type": "markdown",
      "metadata": {
        "id": "view-in-github",
        "colab_type": "text"
      },
      "source": [
        "<a href=\"https://colab.research.google.com/github/KIISIISHERE/Date-Time-and-Calendar-Module/blob/main/Date%2C_Time%2C_and_Calender_Module.ipynb\" target=\"_parent\"><img src=\"https://colab.research.google.com/assets/colab-badge.svg\" alt=\"Open In Colab\"/></a>"
      ]
    },
    {
      "cell_type": "code",
      "source": [
        "# prompt: create a dataframe with 2 columns and 10 rows\n",
        "\n",
        "import pandas as pd\n",
        "import numpy as np\n",
        "\n",
        "# Create a DataFrame with 2 columns and 10 rows\n",
        "data = {'col1': np.random.rand(10), 'col2': np.random.randint(0, 100, 10)}\n",
        "df = pd.DataFrame(data)\n",
        "df\n"
      ],
      "metadata": {
        "colab": {
          "base_uri": "https://localhost:8080/"
        },
        "id": "jvTyo2LHcQVv",
        "outputId": "1cb5296e-9e73-47cb-9d63-ac7a7e7ba1e6"
      },
      "execution_count": 7,
      "outputs": [
        {
          "output_type": "stream",
          "name": "stdout",
          "text": [
            "Requirement already satisfied: pytz in /usr/local/lib/python3.11/dist-packages (2025.2)\n"
          ]
        }
      ]
    },
    {
      "cell_type": "code",
      "execution_count": 6,
      "metadata": {
        "colab": {
          "base_uri": "https://localhost:8080/"
        },
        "id": "aNQ5t7YIZbgp",
        "outputId": "14b9c743-4680-472a-91ee-e1a6a2d2d5b3"
      },
      "outputs": [
        {
          "output_type": "stream",
          "name": "stdout",
          "text": [
            "The current date is: 2025-04-28\n",
            "The current date and time is: 2025-04-28 17:26:02.585819\n",
            "Detected timezone is: UTC\n"
          ]
        }
      ],
      "source": [
        "from datetime import date,time,datetime\n",
        "import pytz\n",
        "import time as t\n",
        "\n",
        "local_timezone = t.tzname[0]\n",
        "\n",
        "#get today\n",
        "today=date.today()\n",
        "#get now\n",
        "now=datetime.now()\n",
        "\n",
        "print(\"The current date is:\",today)\n",
        "print(\"The current date and time is:\",now)\n",
        "print(\"Detected timezone is:\",local_timezone)"
      ]
    },
    {
      "cell_type": "code",
      "source": [
        "import random\n",
        "from datetime import datetime, timedelta\n",
        "# Ask the user for input\n",
        "start_input = input(\"Enter the start date (YYYY-MM-DD HH:MM:SS): \")\n",
        "end_input = input(\"Enter the end date (YYYY-MM-DD HH:MM:SS): \")\n",
        "# Parse the input into datetime objects\n",
        "start_datetime = datetime.strptime(start_input, \"%Y-%m-%d %H:%M:%S\")\n",
        "end_datetime = datetime.strptime(end_input, \"%Y-%m-%d %H:%M:%S\")\n",
        "# Calculate the Difference\n",
        "time_difference = end_datetime - start_datetime\n",
        "# Generate random number of seconds\n",
        "random_seconds = random.randint(0, int(time_difference.total_seconds()))\n",
        "# Calculate the random datetime\n",
        "random_datetime = start_datetime + timedelta(seconds=random_seconds)\n",
        "print(\"Random Date and Time:\", random_datetime)"
      ],
      "metadata": {
        "colab": {
          "base_uri": "https://localhost:8080/"
        },
        "id": "rexyI-vcc4G6",
        "outputId": "0bba6e1b-d71f-4183-9840-97dade60cf87"
      },
      "execution_count": 8,
      "outputs": [
        {
          "output_type": "stream",
          "name": "stdout",
          "text": [
            "Enter the start date (YYYY-MM-DD HH:MM:SS): 2013-04-20 00:00:00\n",
            "Enter the end date (YYYY-MM-DD HH:MM:SS): 2025-04-20 00:00:00\n",
            "Random Date and Time: 2015-12-24 03:30:25\n"
          ]
        }
      ]
    },
    {
      "cell_type": "code",
      "source": [
        "h = float(input(\"Enter hotel cost per day: \"))\n",
        "d = int(input(\"Enter number of days: \"))\n",
        "p = float(input(\"Enter plane ticket cost: \"))\n",
        "v = float(input(\"Enter vehicle rental cost: \"))\n",
        "th = h * d\n",
        "total = th + p + v\n",
        "print(\"Total trip expenditure:\", total)"
      ],
      "metadata": {
        "colab": {
          "base_uri": "https://localhost:8080/"
        },
        "id": "QUFlte47e2b5",
        "outputId": "227bf4c0-56f7-4866-d2c0-a1a025d51867"
      },
      "execution_count": 9,
      "outputs": [
        {
          "output_type": "stream",
          "name": "stdout",
          "text": [
            "Enter hotel cost per day: 10000\n",
            "Enter number of days: 30\n",
            "Enter plane ticket cost: 1000\n",
            "Enter vehicle rental cost: 2500\n",
            "Total trip expenditure: 303500.0\n"
          ]
        }
      ]
    }
  ]
}